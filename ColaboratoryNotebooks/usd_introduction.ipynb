{
  "nbformat": 4,
  "nbformat_minor": 0,
  "metadata": {
    "colab": {
      "name": "GTC_usd_introduction.ipynb",
      "provenance": [],
      "collapsed_sections": [],
      "toc_visible": true
    },
    "kernelspec": {
      "name": "python3",
      "display_name": "Python 3"
    }
  },
  "cells": [
    {
      "cell_type": "markdown",
      "metadata": {
        "id": "d7SGPe5YpUm3"
      },
      "source": [
        "# An introduction to USD basics\n",
        "\n",
        "The goal of this Colab notebook is to introduce some basics of USD including variants, references, definitions, and schemas. \n",
        "\n",
        "While it does not cover the full extent of USD composition, it shows the practical foundations of some of the most useful features to get started with. \n",
        "\n",
        "**To run this sample:** click _Runtime_ > _Run all_ from the top menu, or use the <kbd>⌘</kbd>/<kbd>CTRL</kbd>+<kbd>F9</kbd> keyboard shortcut."
      ]
    },
    {
      "cell_type": "markdown",
      "metadata": {
        "id": "-9aGK7fXmghS"
      },
      "source": [
        "## Install the `usd-core` Python package\n",
        "\n",
        "Install the [`usd-core`](https://pypi.org/project/usd-core/) Python package providing the core USD libraries. Note that it does not provide any of the optional plugins or imaging features from the complete USD distribution."
      ]
    },
    {
      "cell_type": "code",
      "metadata": {
        "id": "epRX-Z0OmCkp",
        "colab": {
          "base_uri": "https://localhost:8080/"
        },
        "outputId": "3f0afbdd-0c6a-4fb6-9402-b54fd88fad4a"
      },
      "source": [
        "! pip install usd-core\n",
        "\n",
        "# See https://pypi.org/project/usd-core/#history for a list of supported USD\n",
        "# versions."
      ],
      "execution_count": null,
      "outputs": []
    },
    {
      "cell_type": "markdown",
      "metadata": {
        "id": "Tgskn4nFmcJ1"
      },
      "source": [
        "## Creating a Layer in USD\n",
        "\n",
        "USD files represent a layer is the USD lexicon.  From the [Pixar Glossary](https://graphics.pixar.com/usd/docs/USD-Glossary.html#USDGlossary-Layer):\n",
        "> A *Layer* is the atomic persistent container of scene description for USD.  A layer contains zero or more `PrimSpecs`, that in turn describe `Property` and `Metadata` values.  Each layer possesses an *identifier* that can be used to contruct references to the layer from other layers.  Although it may be possible to someday remove this restriction, layers must currently correspond to files on a filesystem accessible via POSIX filesystem interfaces.\n",
        "\n",
        "The following section will demonstrate how to create a basic Layer using Python.\n",
        "\n",
        "See Pixar's [_USD Tutorials_](https://graphics.pixar.com/usd/docs/USD-Tutorials.html) for more details."
      ]
    },
    {
      "cell_type": "code",
      "metadata": {
        "colab": {
          "base_uri": "https://localhost:8080/"
        },
        "id": "LQtAdRvxRVOs",
        "outputId": "6fff73a4-8fb5-4bb2-d2f1-120d54708359"
      },
      "source": [
        "from pxr import Usd, UsdGeom\n",
        "\n",
        "# Create a tempory stage in memory\n",
        "stage = Usd.Stage.CreateInMemory('SampleLayer.usda')\n",
        "\n",
        "# Create a transform and add a sphere as mesh data\n",
        "xformPrim = UsdGeom.Xform.Define(stage, '/MySphere')\n",
        "\n",
        "# Set a translation\n",
        "UsdGeom.XformCommonAPI(xformPrim).SetTranslate((7,8,9))\n",
        "\n",
        "spherePrim = UsdGeom.Sphere.Define(stage, '/MySphere/MeshData')\n",
        "\n",
        "# Get the sphere as a generic prim\n",
        "sphere = stage.GetPrimAtPath('/MySphere/MeshData')\n",
        "\n",
        "# Get the extent and radius parameters for the prim\n",
        "radiusAttr = sphere.GetAttribute('radius')\n",
        "extentAttr = sphere.GetAttribute('extent')\n",
        "\n",
        "# Access the sphere schema to set the color\n",
        "colorAttr = spherePrim.GetDisplayColorAttr()\n",
        "\n",
        "# Set the radius to 2\n",
        "radiusAttr.Set(2)\n",
        "\n",
        "# Expand the extents to match the new radius \n",
        "extentAttr.Set(extentAttr.Get()*2)\n",
        "\n",
        "# Make the sphere blue\n",
        "colorAttr.Set([(0,0,1)])\n",
        "\n",
        "# Print out the stage\n",
        "print(stage.GetRootLayer().ExportToString())\n",
        "\n",
        "# Save the resulting layer\n",
        "stage.GetRootLayer().Export('SampleLayer.usda')\n"
      ],
      "execution_count": null,
      "outputs": [
        {
          "output_type": "stream",
          "text": [
            "#usda 1.0\n",
            "\n",
            "def Xform \"MySphere\"\n",
            "{\n",
            "    double3 xformOp:translate = (7, 8, 9)\n",
            "    uniform token[] xformOpOrder = [\"xformOp:translate\"]\n",
            "\n",
            "    def Sphere \"MeshData\"\n",
            "    {\n",
            "        float3[] extent = [(-2, -2, -2), (2, 2, 2)]\n",
            "        color3f[] primvars:displayColor = [(0, 0, 1)]\n",
            "        double radius = 2\n",
            "    }\n",
            "}\n",
            "\n",
            "\n"
          ],
          "name": "stdout"
        },
        {
          "output_type": "execute_result",
          "data": {
            "text/plain": [
              "True"
            ]
          },
          "metadata": {
            "tags": []
          },
          "execution_count": 3
        }
      ]
    },
    {
      "cell_type": "markdown",
      "metadata": {
        "id": "Mxi_-wW3vr9K"
      },
      "source": [
        "## Understanding how References work\n",
        "\n",
        "One of the most basic and useful tools for composing scenes in USD is the reference. \n",
        "\n",
        "From the [USD Glossary](https://graphics.pixar.com/usd/docs/USD-Glossary.html#USDGlossary-References): \n",
        "\n",
        "> The primary use for References is to compose smaller units of scene description into larger *aggregates*, building up a namespace that includes the \"encapsulated\" result of composing the scene description targeted by a reference.\n",
        "\n",
        "The following example demonstrates how to make a reference, then override properties of the referenced data. "
      ]
    },
    {
      "cell_type": "code",
      "metadata": {
        "colab": {
          "base_uri": "https://localhost:8080/"
        },
        "id": "oejtRITBXNk8",
        "outputId": "3017b468-d650-40ce-9b45-4d65bad61ca5"
      },
      "source": [
        "from pxr import Usd, UsdGeom\n",
        "\n",
        "# Create a tempory stage in memory\n",
        "stage = Usd.Stage.CreateInMemory('ReferenceExample.usda')\n",
        "\n",
        "# Create a place for the reference to live\n",
        "refSphere = stage.OverridePrim('/refSphere')\n",
        "\n",
        "# Create the reference\n",
        "refSphere.GetReferences().AddReference('./SampleLayer.usda', '/MySphere')\n",
        "\n",
        "# Remove the translation operation applied to the base sphere's transform\n",
        "refXform = UsdGeom.Xformable(refSphere)\n",
        "refXform.SetXformOpOrder([])\n",
        "\n",
        "# Print out the stage\n",
        "print(\"The Layer\\n\\n\")\n",
        "print(stage.GetRootLayer().ExportToString())\n",
        "print(\"\\n\\nThe result of Composition \\n\\n\")\n",
        "print(stage.Flatten().ExportToString())\n",
        "print(\"\\n\\n\")\n",
        "# Override the color of the sphere to be red\n",
        "overMeshData = UsdGeom.Sphere.Get(stage, '/refSphere/MeshData')\n",
        "overMeshData.GetDisplayColorAttr().Set([(1,0,0)])\n",
        "\n",
        "# Print out the stage\n",
        "print(\"The Layer\\n\\n\")\n",
        "print(stage.GetRootLayer().ExportToString())\n",
        "print(\"\\n\\nThe result of Composition \\n\\n\")\n",
        "print(stage.Flatten().ExportToString())\n",
        "\n",
        "# Save the resulting layer\n",
        "stage.GetRootLayer().Export('RefExample.usda')\n"
      ],
      "execution_count": null,
      "outputs": [
        {
          "output_type": "stream",
          "text": [
            "The Layer\n",
            "\n",
            "\n",
            "#usda 1.0\n",
            "\n",
            "over \"refSphere\" (\n",
            "    prepend references = @./SampleLayer.usda@</MySphere>\n",
            ")\n",
            "{\n",
            "    uniform token[] xformOpOrder = []\n",
            "}\n",
            "\n",
            "\n",
            "\n",
            "\n",
            "The result of Composition \n",
            "\n",
            "\n",
            "#usda 1.0\n",
            "(\n",
            "    doc = \"\"\"Generated from Composed Stage of root layer \n",
            "\"\"\"\n",
            ")\n",
            "\n",
            "def Xform \"refSphere\"\n",
            "{\n",
            "    double3 xformOp:translate = (7, 8, 9)\n",
            "    uniform token[] xformOpOrder = []\n",
            "\n",
            "    def Sphere \"MeshData\"\n",
            "    {\n",
            "        float3[] extent = [(-2, -2, -2), (2, 2, 2)]\n",
            "        color3f[] primvars:displayColor = [(0, 0, 1)]\n",
            "        double radius = 2\n",
            "    }\n",
            "}\n",
            "\n",
            "\n",
            "\n",
            "\n",
            "\n",
            "The Layer\n",
            "\n",
            "\n",
            "#usda 1.0\n",
            "\n",
            "over \"refSphere\" (\n",
            "    prepend references = @./SampleLayer.usda@</MySphere>\n",
            ")\n",
            "{\n",
            "    uniform token[] xformOpOrder = []\n",
            "\n",
            "    over \"MeshData\"\n",
            "    {\n",
            "        color3f[] primvars:displayColor = [(1, 0, 0)]\n",
            "    }\n",
            "}\n",
            "\n",
            "\n",
            "\n",
            "\n",
            "The result of Composition \n",
            "\n",
            "\n",
            "#usda 1.0\n",
            "(\n",
            "    doc = \"\"\"Generated from Composed Stage of root layer \n",
            "\"\"\"\n",
            ")\n",
            "\n",
            "def Xform \"refSphere\"\n",
            "{\n",
            "    double3 xformOp:translate = (7, 8, 9)\n",
            "    uniform token[] xformOpOrder = []\n",
            "\n",
            "    def Sphere \"MeshData\"\n",
            "    {\n",
            "        float3[] extent = [(-2, -2, -2), (2, 2, 2)]\n",
            "        color3f[] primvars:displayColor = [(1, 0, 0)]\n",
            "        double radius = 2\n",
            "    }\n",
            "}\n",
            "\n",
            "\n"
          ],
          "name": "stdout"
        },
        {
          "output_type": "execute_result",
          "data": {
            "text/plain": [
              "True"
            ]
          },
          "metadata": {
            "tags": []
          },
          "execution_count": 5
        }
      ]
    },
    {
      "cell_type": "code",
      "metadata": {
        "colab": {
          "base_uri": "https://localhost:8080/"
        },
        "id": "yC52K_ktcfSS",
        "outputId": "0d4d9b18-7d1b-4e3f-98b4-0932517a315f"
      },
      "source": [
        "from pxr import Usd, UsdGeom\n",
        "\n",
        "# Create a tempory stage in memory\n",
        "stage = Usd.Stage.CreateInMemory('VariantExample.usda')\n",
        "\n",
        "# Create a place for the reference to live\n",
        "variantSphere = stage.OverridePrim('/variantSphere')\n",
        "\n",
        "# Create the reference\n",
        "variantSphere.GetReferences().AddReference('./SampleLayer.usda', '/MySphere')\n",
        "\n",
        "# Remove the translation operation applied to the base sphere's transform\n",
        "variantXform = stage.GetPrimAtPath('/variantSphere')\n",
        "\n",
        "# Clear any color on the base sphere\n",
        "overMeshData = UsdGeom.Sphere.Get(stage, '/variantSphere/MeshData')\n",
        "colorAttr = overMeshData.GetDisplayColorAttr()\n",
        "colorAttr.Clear()\n",
        "\n",
        "# Add the VariantSet\n",
        "colorVariants = variantXform.GetVariantSets().AddVariantSet('ColorsRGB')\n",
        "\n",
        "# Add variants to the VariantSet\n",
        "colorVariants.AddVariant('red')\n",
        "colorVariants.AddVariant('green')\n",
        "colorVariants.AddVariant('blue')\n",
        "\n",
        "# Set the variant values\n",
        "colorVariants.SetVariantSelection('red')\n",
        "with colorVariants.GetVariantEditContext():\n",
        "    colorAttr.Set([(1,0,0)])\n",
        "\n",
        "colorVariants.SetVariantSelection('green')\n",
        "with colorVariants.GetVariantEditContext():\n",
        "    colorAttr.Set([(0,1,0)])\n",
        "\n",
        "colorVariants.SetVariantSelection('blue')\n",
        "with colorVariants.GetVariantEditContext():\n",
        "    colorAttr.Set([(0,0,1)])\n",
        "\n",
        "# Set the color to be green\n",
        "colorVariants.SetVariantSelection('green')\n",
        "\n",
        "print(\"\\n\\n The Layer\\n\\n\")\n",
        "print(stage.GetRootLayer().ExportToString())\n",
        "print(\"\\n\\n The Result of Composition\\n\\n\")\n",
        "print(stage.Flatten().ExportToString())\n",
        "\n",
        "# Save the resulting layer\n",
        "stage.GetRootLayer().Export('VariantExample.usda')\n"
      ],
      "execution_count": null,
      "outputs": [
        {
          "output_type": "stream",
          "text": [
            "\n",
            "\n",
            " The Layer\n",
            "\n",
            "\n",
            "#usda 1.0\n",
            "\n",
            "over \"variantSphere\" (\n",
            "    prepend references = @./SampleLayer.usda@</MySphere>\n",
            "    variants = {\n",
            "        string ColorsRGB = \"green\"\n",
            "    }\n",
            "    prepend variantSets = \"ColorsRGB\"\n",
            ")\n",
            "{\n",
            "    variantSet \"ColorsRGB\" = {\n",
            "        \"blue\" {\n",
            "            over \"MeshData\"\n",
            "            {\n",
            "                color3f[] primvars:displayColor = [(0, 0, 1)]\n",
            "            }\n",
            "\n",
            "        }\n",
            "        \"green\" {\n",
            "            over \"MeshData\"\n",
            "            {\n",
            "                color3f[] primvars:displayColor = [(0, 1, 0)]\n",
            "            }\n",
            "\n",
            "        }\n",
            "        \"red\" {\n",
            "            over \"MeshData\"\n",
            "            {\n",
            "                color3f[] primvars:displayColor = [(1, 0, 0)]\n",
            "            }\n",
            "\n",
            "        }\n",
            "    }\n",
            "}\n",
            "\n",
            "\n",
            "\n",
            "\n",
            " The Result of Composition\n",
            "\n",
            "\n",
            "#usda 1.0\n",
            "(\n",
            "    doc = \"\"\"Generated from Composed Stage of root layer \n",
            "\"\"\"\n",
            ")\n",
            "\n",
            "def Xform \"variantSphere\"\n",
            "{\n",
            "    double3 xformOp:translate = (7, 8, 9)\n",
            "    uniform token[] xformOpOrder = [\"xformOp:translate\"]\n",
            "\n",
            "    def Sphere \"MeshData\"\n",
            "    {\n",
            "        float3[] extent = [(-2, -2, -2), (2, 2, 2)]\n",
            "        color3f[] primvars:displayColor = [(0, 1, 0)]\n",
            "        double radius = 2\n",
            "    }\n",
            "}\n",
            "\n",
            "\n"
          ],
          "name": "stdout"
        },
        {
          "output_type": "execute_result",
          "data": {
            "text/plain": [
              "True"
            ]
          },
          "metadata": {
            "tags": []
          },
          "execution_count": 6
        }
      ]
    }
  ]
}
