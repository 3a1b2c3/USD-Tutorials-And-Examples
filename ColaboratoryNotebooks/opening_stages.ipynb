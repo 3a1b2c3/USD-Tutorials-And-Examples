{
  "nbformat": 4,
  "nbformat_minor": 0,
  "metadata": {
    "colab": {
      "name": "opening-stages.ipynb",
      "provenance": []
    },
    "kernelspec": {
      "name": "python3",
      "display_name": "Python 3"
    },
    "language_info": {
      "name": "python"
    }
  },
  "cells": [
    {
      "cell_type": "markdown",
      "metadata": {
        "id": "IftoR-r0D6R0"
      },
      "source": [
        "# USD Tutorial: Opening Stages\n",
        "\n",
        "**To run this sample:** click _Runtime_ > _Run all_ from the top menu, or use the <kbd>⌘</kbd>/<kbd>CTRL</kbd>+<kbd>F9</kbd> keyboard shortcut."
      ]
    },
    {
      "cell_type": "markdown",
      "metadata": {
        "id": "nyWofqfjEmNk"
      },
      "source": [
        "## Install the `usd-core` Python package\n",
        "\n",
        "Install the [`usd-core`](https://pypi.org/project/usd-core/) Python package providing the core USD libraries. Note that it does not provide any of the optional plugins or imaging features from the complete USD distribution."
      ]
    },
    {
      "cell_type": "code",
      "metadata": {
        "id": "RjqwbEkREoUb"
      },
      "source": [
        "! pip install usd-core\n",
        "\n",
        "# See https://pypi.org/project/usd-core/#history for a list of supported USD\n",
        "# versions."
      ],
      "execution_count": null,
      "outputs": []
    },
    {
      "cell_type": "markdown",
      "metadata": {
        "id": "ZNXYTKBzELR7"
      },
      "source": [
        "## Tutorial\n",
        "\n",
        "Working with USD Stages is pretty straight forward, as most times everything is one function call away.\n",
        "\n",
        "To load a USD file as a USD Stage you use `Usd.Stage.Open(path)`:"
      ]
    },
    {
      "cell_type": "code",
      "metadata": {
        "id": "2-Z3qbXsE4Qs"
      },
      "source": [
        "%%file sphere_sample.usda\n",
        "#usda 1.0\n",
        "def Sphere \"sphere\"\n",
        "{\n",
        "}"
      ],
      "execution_count": null,
      "outputs": []
    },
    {
      "cell_type": "code",
      "metadata": {
        "id": "8A730ygjEyZ0"
      },
      "source": [
        "from pxr import Usd\n",
        "\n",
        "stage = Usd.Stage.Open('sphere_sample.usda')"
      ],
      "execution_count": 3,
      "outputs": []
    },
    {
      "cell_type": "markdown",
      "metadata": {
        "id": "b55FFtgcFMQs"
      },
      "source": [
        "To create a new Stage use `Usd.Stage.CreateNew(path)`:"
      ]
    },
    {
      "cell_type": "code",
      "metadata": {
        "id": "OlgYaHQBFP67"
      },
      "source": [
        "stage = Usd.Stage.CreateNew('a_new_stage.usd')  "
      ],
      "execution_count": 4,
      "outputs": []
    },
    {
      "cell_type": "markdown",
      "metadata": {
        "id": "BRANR9wMFUO3"
      },
      "source": [
        "To save a loaded Stage use `Usd.Stage.Save(path)`:"
      ]
    },
    {
      "cell_type": "code",
      "metadata": {
        "id": "uNk0nfjNFW3U"
      },
      "source": [
        "stage = Usd.Stage.Open('sphere_sample.usda')\n",
        "# Do something to the stage\n",
        "stage.Save()  "
      ],
      "execution_count": 5,
      "outputs": []
    },
    {
      "cell_type": "markdown",
      "metadata": {
        "id": "lEKbxlWXFbhW"
      },
      "source": [
        "To export a stage to a new file, you can use `Usd.Stage.Export()`. This function allows you to transition between serialization formats (*usda* or *usdc*) as well, based on the file extension provided."
      ]
    },
    {
      "cell_type": "code",
      "metadata": {
        "id": "3XsEIAAZFi8b"
      },
      "source": [
        "stage = Usd.Stage.Open('sphere_sample.usda')\n",
        "# Do something to the stage\n",
        "stage.Export('sphere_sample.usdc')"
      ],
      "execution_count": null,
      "outputs": []
    }
  ]
}