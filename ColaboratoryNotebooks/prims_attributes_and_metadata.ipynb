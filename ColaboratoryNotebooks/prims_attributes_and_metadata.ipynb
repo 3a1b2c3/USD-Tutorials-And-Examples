{
  "nbformat": 4,
  "nbformat_minor": 0,
  "metadata": {
    "colab": {
      "name": "prims-attributes-and-metadata.ipynb",
      "provenance": []
    },
    "kernelspec": {
      "name": "python3",
      "display_name": "Python 3"
    },
    "language_info": {
      "name": "python"
    }
  },
  "cells": [
    {
      "cell_type": "markdown",
      "metadata": {
        "id": "IftoR-r0D6R0"
      },
      "source": [
        "# USD Tutorial: Prims, Attributes and Metadata\n",
        "\n",
        "**To run this sample:** click _Runtime_ > _Run all_ from the top menu, or use the <kbd>⌘</kbd>/<kbd>CTRL</kbd>+<kbd>F9</kbd> keyboard shortcut."
      ]
    },
    {
      "cell_type": "markdown",
      "metadata": {
        "id": "nyWofqfjEmNk"
      },
      "source": [
        "## Install the `usd-core` Python package\n",
        "\n",
        "Install the [`usd-core`](https://pypi.org/project/usd-core/) Python package providing the core USD libraries. Note that it does not provide any of the optional plugins or imaging features from the complete USD distribution."
      ]
    },
    {
      "cell_type": "code",
      "metadata": {
        "id": "RjqwbEkREoUb"
      },
      "source": [
        "! pip install usd-core\n",
        "\n",
        "# See https://pypi.org/project/usd-core/#history for a list of supported USD\n",
        "# versions."
      ],
      "execution_count": null,
      "outputs": []
    },
    {
      "cell_type": "code",
      "metadata": {
        "id": "gr8anrjrLkJU"
      },
      "source": [
        "%%file sphere_sample.usda\n",
        "#usda 1.0\n",
        "def Sphere \"sphere\"\n",
        "{\n",
        "}"
      ],
      "execution_count": null,
      "outputs": []
    },
    {
      "cell_type": "markdown",
      "metadata": {
        "id": "Sl7Ua6G6FpKz"
      },
      "source": [
        "## Tutorial\n",
        "\n",
        "### Prims\n",
        "Working with Prims is a more complicated since Prims are extremely powerful objects in USD. Prims are referenced by their path in the stage, which is a string in the form of `/Prim/ChildPrim`. `/` is a special prim known as the root prim in a stage.\n",
        "\n",
        "To get a reference to a prim at a path use `stage_ref.GetPrimAtPath(path)`:"
      ]
    },
    {
      "cell_type": "code",
      "metadata": {
        "id": "9fJ8AuN1Fzwj"
      },
      "source": [
        "from pxr import Sdf, Usd, UsdGeom\n",
        "\n",
        "stage_ref = Usd.Stage.Open('sphere_sample.usda')\n",
        "\n",
        "prim = stage_ref.GetPrimAtPath('/sphere')\n",
        "print(prim.GetName()) # Prints \"sphere\"\n",
        "print(prim.GetPrimPath()) # Prints \"/sphere\""
      ],
      "execution_count": null,
      "outputs": []
    },
    {
      "cell_type": "markdown",
      "metadata": {
        "id": "1clJziPQFzOb"
      },
      "source": [
        "To define a new prim use `stage_ref.DefinePrim(path)`:"
      ]
    },
    {
      "cell_type": "code",
      "metadata": {
        "id": "HCCvIRfmGDEb"
      },
      "source": [
        "stage_ref = Usd.Stage.Open('sphere_sample.usda')\n",
        "\n",
        "prim = stage_ref.DefinePrim('/UnTypedPrim')\n",
        "print(prim.GetName()) # Prints \"UnTypedPrim\""
      ],
      "execution_count": null,
      "outputs": []
    },
    {
      "cell_type": "markdown",
      "metadata": {
        "id": "E82AGFcYGGaL"
      },
      "source": [
        "To define a new prim with a type use `stage_ref.DefinePrim(path, type_name)` or you can use your Type's `SomeType.Define(stage_ref, path)` method:"
      ]
    },
    {
      "cell_type": "code",
      "metadata": {
        "id": "j-W-VHJ6GLY8"
      },
      "source": [
        "stage_ref = Usd.Stage.Open('sphere_sample.usda')\n",
        "\n",
        "prim = stage_ref.DefinePrim('/XformPrim', 'Xform')\n",
        "# Above we have a Usd.Prim, if we want to access all the Xform's types natively,\n",
        "# we need to get an Xform instance of our prim\n",
        "xform = UsdGeom.Xform(prim)\n",
        "\n",
        "print(xform.GetPath()) # Prints \"/XformPrim\"\n",
        "\n",
        "# It is often better to use the Define() method of your type right away, since\n",
        "# it returns your typed instance rather than a Usd.Prim instance\n",
        "\n",
        "xform_faster = UsdGeom.Xform.Define(stage_ref, '/AnotherXformPrim')"
      ],
      "execution_count": null,
      "outputs": []
    },
    {
      "cell_type": "markdown",
      "metadata": {
        "id": "r8zq9u2bGXU0"
      },
      "source": [
        "To delete a prim from the current edit layer (please refer to the [documentation about RemovePrim](https://graphics.pixar.com/usd/docs/api/class_usd_stage.html#ac605faad8fc2673263775b1eecad2955) for details) you can use `stage_ref.RemovePrim(path)`:"
      ]
    },
    {
      "cell_type": "code",
      "metadata": {
        "id": "Ld7Zz88YGf3b"
      },
      "source": [
        "stage_ref = Usd.Stage.Open('sphere_sample.usda')\n",
        "prim = stage_ref.DefinePrim('/UnTypedPrim')\n",
        "\n",
        "if stage_ref.RemovePrim('/UnTypedPrim'):\n",
        "    print('/UnTypedPrim removed')\n",
        "\n",
        "# If you try to access the prim object, it will still reference path but it is\n",
        "# expired\n",
        "if (prim.IsValid()):\n",
        "    print('{} is valid'.format(prim.GetName()))\n",
        "else:\n",
        "    print('{} is not valid'.format(prim.GetName()))\n",
        "  \n",
        "# The above will print \"Accessed invalid expired prim </UnTypedPrim>\""
      ],
      "execution_count": null,
      "outputs": []
    },
    {
      "cell_type": "markdown",
      "metadata": {
        "id": "we85c_IeGppD"
      },
      "source": [
        "## Attributes\n",
        "Attributes are the workhorse of storing actual data inside a Prim. Attributes are often defined as part of [Schemas](https://graphics.pixar.com/usd/docs/USD-Glossary.html#USDGlossary-Schema) to make it easier to access context-relevant data from within an instance of that Type.\n",
        "\n",
        "For example, `Xform` typed Prims have an attribute called `Purpose` which is used to specify the purpose of an imageable prim. It contains one of the following values: `[default, render, proxy, guide]`\n",
        "\n",
        "Now, you could get this attribute's value in two ways. One, as a generic `prim_ref.GetAttribute(name)` call, but you would have to know that the exact name of the attribute you want is \"purpose\", and you wouldn't be able to get any code completion in an IDE that way.\n",
        "\n",
        "The other way is to use the Xform Schema's exposed function for getting the purpose, which is `xform_ref.GetPurposeAttr()`, which returns the same object, but will be typed in an IDE and does not depend on the underlying string name of the attribute.\n",
        "\n",
        "Most often after you get an Attribute object, you will want to get the attribute's actual value or set it. That can be done with *attribute_ref.Get()* to retrieve the value, and `attribute_ref.Set(value)` to set the value.\n",
        "\n",
        "Let's see the code for getting an Attribute reference and getting its value:\n"
      ]
    },
    {
      "cell_type": "code",
      "metadata": {
        "id": "Z5qLyZ-NHEtV"
      },
      "source": [
        "stage_ref = Usd.Stage.Open('sphere_sample.usda')\n",
        "\n",
        "# Get a reference to the Xform instance as well as a generic Prim instance\n",
        "xform_ref = UsdGeom.Xform.Define(stage_ref, '/XformPrim')\n",
        "prim_ref = xform_ref.GetPrim()\n",
        "\n",
        "# Get an attribute reference (not its value!)\n",
        "purpose_from_xform_ref = xform_ref.GetPurposeAttr()\n",
        "purpose_from_prim_ref = prim_ref.GetAttribute('purpose')\n",
        "\n",
        "print(purpose_from_xform_ref == purpose_from_prim_ref) # Prints \"True\"\n",
        "\n",
        "# Prints the actual attribute's value, in this case, one of [default, render,\n",
        "# proxy, guide], since it is the Xform's actual Purpose attribute\n",
        "print(purpose_from_xform_ref.Get())"
      ],
      "execution_count": null,
      "outputs": []
    },
    {
      "cell_type": "markdown",
      "metadata": {
        "id": "4QEhnGQXHNFz"
      },
      "source": [
        "To create an attribute that isn't part of a Type's namespace (or it is, but you want to create the attribute \"manually\"), you must pass the attribute name and its type to `prim_ref.CreateAttribute(name, type)`.\n",
        "\n",
        "Otherwise, most Types expose a `Set`-style command, for example `xform_ref.SetPurposeAttr(value)`.\n",
        "\n",
        "### Working with Attributes\n",
        "\n",
        "You can call the `prim_ref.CreateAttribute(name, type)` function to create the attribute, and we can use the information above to select a valid `type`. It returns a reference to the attribute created, which we can set with `attribute_ref.Set(value)`, and again we can construct a valid value by looking up the constructor above."
      ]
    },
    {
      "cell_type": "code",
      "metadata": {
        "id": "gJU_efttH2tU"
      },
      "source": [
        "stage_ref = Usd.Stage.CreateInMemory()\n",
        "\n",
        "# Create a Usd.Prim\n",
        "prim_ref = stage_ref.DefinePrim('/Prim')\n",
        "\n",
        "# Create an attribute reference, using an explicit reference to the type\n",
        "weight_attr = prim_ref.CreateAttribute('weight', Sdf.ValueTypeNames.Float)\n",
        "\n",
        "print(weight_attr.Get()) # Prints empty string for default Float values, not 0!\n",
        "\n",
        "print(weight_attr.Get() == None) # Prints \"True\"\n",
        "print(weight_attr.Get() == 0) # Prints \"False\"\n",
        "\n",
        "# To set an attribute we use the `attribute_ref.Set(value)` function\n",
        "weight_attr.Set(42.3)\n",
        "\n",
        "print(weight_attr.Get()) # Prints \"42.3\"\n",
        "\n",
        "# Also, you can chain calls like so\n",
        "print(prim_ref.GetPrim().GetAttribute('weight').Get()) # Prints \"42.3\""
      ],
      "execution_count": null,
      "outputs": []
    }
  ]
}