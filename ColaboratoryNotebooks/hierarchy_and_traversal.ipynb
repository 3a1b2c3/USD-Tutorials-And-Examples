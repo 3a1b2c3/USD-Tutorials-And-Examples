{
  "nbformat": 4,
  "nbformat_minor": 0,
  "metadata": {
    "colab": {
      "name": "hierarchy-and-traversal.ipynb",
      "provenance": []
    },
    "kernelspec": {
      "name": "python3",
      "display_name": "Python 3"
    },
    "language_info": {
      "name": "python"
    }
  },
  "cells": [
    {
      "cell_type": "markdown",
      "metadata": {
        "id": "IftoR-r0D6R0"
      },
      "source": [
        "# USD Tutorial: Hierarchy and Traversal\n",
        "\n",
        "**To run this sample:** click _Runtime_ > _Run all_ from the top menu, or use the <kbd>⌘</kbd>/<kbd>CTRL</kbd>+<kbd>F9</kbd> keyboard shortcut."
      ]
    },
    {
      "cell_type": "markdown",
      "metadata": {
        "id": "nyWofqfjEmNk"
      },
      "source": [
        "## Install the `usd-core` Python package\n",
        "\n",
        "Install the [`usd-core`](https://pypi.org/project/usd-core/) Python package providing the core USD libraries. Note that it does not provide any of the optional plugins or imaging features from the complete USD distribution."
      ]
    },
    {
      "cell_type": "code",
      "metadata": {
        "id": "RjqwbEkREoUb"
      },
      "source": [
        "! pip install usd-core\n",
        "\n",
        "# See https://pypi.org/project/usd-core/#history for a list of supported USD\n",
        "# versions."
      ],
      "execution_count": null,
      "outputs": []
    },
    {
      "cell_type": "markdown",
      "metadata": {
        "id": "PkN9Gs6NIBIj"
      },
      "source": [
        "## Tutorial\n",
        "\n",
        "USD Stages are organized in a hierarchy of Prims: there is a special root prim at `/` and it may have N-number of direct Prim descendants, each of which can have their own tree of Prim descendants.\n",
        "\n",
        "The path to a Prim is described by a string which starts with the root prim `/` and contains the Prim name separated by the path separator `/` until the last component is the desired Prim's name.\n",
        "\n",
        "For example `/Car/Wheel/Tire` refers to the `Tire` prim which has parent `Wheel` and grandparent `Car`. `Car`'s parent is the special root prim `/`.\n",
        "\n",
        "In the Tutorial section on Stages there is information on how to retrieve a Prim at a given path using `stage_ref.GetPrimAtPath()`.\n",
        "\n",
        "Here is a refresher, we'll assume *car.usda* has the `/Car/Wheel/Tire` path:"
      ]
    },
    {
      "cell_type": "code",
      "metadata": {
        "id": "oJrApcfjIYcM"
      },
      "source": [
        "%%file car.usda\n",
        "#usda 1.0\n",
        "def \"Car\" {\n",
        "    def \"Wheel\" {\n",
        "        def \"Tire\" {\n",
        "            \n",
        "        }\n",
        "    }\n",
        "}"
      ],
      "execution_count": null,
      "outputs": []
    },
    {
      "cell_type": "code",
      "metadata": {
        "id": "Rq-2a6pjIjgx"
      },
      "source": [
        "from pxr import Usd\n",
        "\n",
        "stage_ref = Usd.Stage.Open('car.usda')\n",
        "prim_ref = stage_ref.GetPrimAtPath('/Car')"
      ],
      "execution_count": 3,
      "outputs": []
    },
    {
      "cell_type": "markdown",
      "metadata": {
        "id": "JirNBzx8IoGD"
      },
      "source": [
        "Now, if you want to get a specific child of a Prim, and you know the name, you can use `prim_ref.GetChild(child_name)`:"
      ]
    },
    {
      "cell_type": "code",
      "metadata": {
        "id": "vurZazQCIlHc"
      },
      "source": [
        "stage_ref = Usd.Stage.Open('car.usda')\n",
        "\n",
        "prim_ref = stage_ref.GetPrimAtPath('/Car')\n",
        "child_prim_ref = prim_ref.GetChild('Wheel')\n",
        "\n",
        "# Prims can be cast as bool, so you can check if the prim exists by comparing\n",
        "# its bool() overload\n",
        "if child_prim_ref:\n",
        "    print(\"/Car/Wheel exists\") # This will execute\n",
        "\n",
        "print(child_prim_ref.GetPath()) # Prints \"\"/Car/Wheel\""
      ],
      "execution_count": null,
      "outputs": []
    },
    {
      "cell_type": "markdown",
      "metadata": {
        "id": "yvCu6v_nIvgD"
      },
      "source": [
        "If you want to get all the children of a Prim, you can use `prim_ref.GetChildren()` which returns a list of prim references:"
      ]
    },
    {
      "cell_type": "code",
      "metadata": {
        "id": "UVYAXLftIyY0"
      },
      "source": [
        "stage_ref = Usd.Stage.Open('car.usda')\n",
        "\n",
        "prim_ref = stage_ref.GetPrimAtPath('/Car')\n",
        "\n",
        "# Will return [Usd.Prim(</Car/Wheel>)]\n",
        "children_refs = prim_ref.GetChildren()"
      ],
      "execution_count": 5,
      "outputs": []
    },
    {
      "cell_type": "markdown",
      "metadata": {
        "id": "QVgskWPGI0mr"
      },
      "source": [
        "If you want to traverse the entire stage, the `stage_ref.Traverse()` function is perfect for that, it returns an iterator:"
      ]
    },
    {
      "cell_type": "code",
      "metadata": {
        "id": "FkRIiEmgI3a8"
      },
      "source": [
        "stage_ref = Usd.Stage.Open('car.usda')\n",
        "\n",
        "for prim_ref in stage_ref.Traverse():\n",
        "    print(prim_ref.GetPath())"
      ],
      "execution_count": null,
      "outputs": []
    },
    {
      "cell_type": "markdown",
      "metadata": {
        "id": "qPyn-gVtI5UL"
      },
      "source": [
        "There are more advanced traversal methods described in the [UsdStage](https://graphics.pixar.com/usd/docs/api/class_usd_stage.html#adba675b55f41cc1b305bed414fc4f178) documentation."
      ]
    }
  ]
}